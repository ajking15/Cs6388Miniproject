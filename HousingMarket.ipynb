{
  "nbformat": 4,
  "nbformat_minor": 0,
  "metadata": {
    "colab": {
      "name": "HousingMarket.ipynb",
      "provenance": [],
      "authorship_tag": "ABX9TyPMHRI22GKEQluYkr4eThoD",
      "include_colab_link": true
    },
    "kernelspec": {
      "name": "python3",
      "display_name": "Python 3"
    },
    "language_info": {
      "name": "python"
    }
  },
  "cells": [
    {
      "cell_type": "markdown",
      "metadata": {
        "id": "view-in-github",
        "colab_type": "text"
      },
      "source": [
        "<a href=\"https://colab.research.google.com/github/ajking15/Cs6388Miniproject/blob/main/HousingMarket.ipynb\" target=\"_parent\"><img src=\"https://colab.research.google.com/assets/colab-badge.svg\" alt=\"Open In Colab\"/></a>"
      ]
    },
    {
      "cell_type": "markdown",
      "source": [
        "https://www.kaggle.com/datasets/andradaolteanu/redfin-housing-market-prices"
      ],
      "metadata": {
        "id": "Gwg4GGGCsqNo"
      }
    },
    {
      "cell_type": "markdown",
      "source": [
        "# USA Housing Market Prices"
      ],
      "metadata": {
        "id": "ox6tIFMI-dkJ"
      }
    },
    {
      "cell_type": "markdown",
      "source": [
        "Using housing market prices to predict the trend and the next crash/boom in the housing market. This is historical data from Redfin (https://www.redfin.com/news/data-center-metrics-definitions/) based on location, listings, forclosures and etc. The data consists everything from last week to 20 years ago. "
      ],
      "metadata": {
        "id": "2vVoKl4z-6LN"
      }
    }
  ]
}